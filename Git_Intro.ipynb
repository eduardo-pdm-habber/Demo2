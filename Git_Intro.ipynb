{
  "nbformat": 4,
  "nbformat_minor": 0,
  "metadata": {
    "colab": {
      "provenance": []
    },
    "kernelspec": {
      "name": "python3",
      "display_name": "Python 3"
    },
    "language_info": {
      "name": "python"
    }
  },
  "cells": [
    {
      "cell_type": "markdown",
      "source": [
        "# Bloque 0: Git desde cero"
      ],
      "metadata": {
        "id": "CTlzFG0JN3IE"
      }
    },
    {
      "cell_type": "markdown",
      "source": [
        "**Objetivos:**\n",
        "1. Entender qué es Git y por qué usarlo (historial, trabajo en equipo, ramas).\n",
        "\n",
        "2. Dominar el ciclo básico: working tree → staging → commit.\n",
        "\n",
        "3. Trabajar con ramas y merge (y resolver conflictos simples).\n",
        "\n",
        "4. Conectar con remotos (GitHub/GitLab), push/pull/clone.\n",
        "\n",
        "5. Conocer recuperación (reflog, reset, restore, stash) y buenas prácticas."
      ],
      "metadata": {
        "id": "WIZgoOuPN2qy"
      }
    },
    {
      "cell_type": "markdown",
      "source": [
        "## **Conceptos básicos**"
      ],
      "metadata": {
        "id": "l5r-EOpcPP81"
      }
    },
    {
      "cell_type": "markdown",
      "source": [
        "* Working tree: tus archivos en disco (lo que editas).\n",
        "\n",
        "* Staging area (index): “carrito” de cambios que vas a fotografiar.\n",
        "\n",
        "* Commit: una foto (snapshot) con mensaje.\n",
        "\n",
        "* Rama (branch): puntero móvil a una secuencia de commits (línea de trabajo).\n",
        "\n",
        "* HEAD: dónde estás ahora (tu “cámara”).\n",
        "\n",
        "* Remoto: copia del repo en servidor (p. ej. GitHub) para colaborar.\n",
        "\n",
        "Es decir: Working->staginig->repo(commits)->remote (con pull/push)"
      ],
      "metadata": {
        "id": "G3SX9y3rPVYS"
      }
    },
    {
      "cell_type": "markdown",
      "source": [
        "**Diferencia entre Git y GitHub**\n",
        "\n",
        "Git es una herramienta local de control de versiones para rastrear cambios en el código, mientras que GitHub es una plataforma en la nube que utiliza Git para alojar repositorios, facilitar la colaboración y ofrecer herramientas de gestión de proyectos."
      ],
      "metadata": {
        "id": "RzuZZeDSWKY3"
      }
    },
    {
      "cell_type": "markdown",
      "source": [
        "## **Configuración inicial**"
      ],
      "metadata": {
        "id": "6xj-4wyDPMCW"
      }
    },
    {
      "cell_type": "code",
      "execution_count": null,
      "metadata": {
        "id": "n93L8h63N1wi"
      },
      "outputs": [],
      "source": [
        "git --version\n",
        "git config --global user.name \"Nombre Apellido\"\n",
        "git config --global user.email \"tu@empresa.com\"\n",
        "git config --global init.defaultBranch main # Ponemos por defecto que la rama sea Main"
      ]
    },
    {
      "cell_type": "markdown",
      "source": [
        "## **Inicialización del repositorio**"
      ],
      "metadata": {
        "id": "NNYcSEDRXS97"
      }
    },
    {
      "cell_type": "code",
      "source": [
        "git init"
      ],
      "metadata": {
        "id": "FpqR-Pr1XXOC"
      },
      "execution_count": null,
      "outputs": []
    },
    {
      "cell_type": "markdown",
      "source": [
        "## **Creación del primer archivo**"
      ],
      "metadata": {
        "id": "LEtHsCG-XZzE"
      }
    },
    {
      "cell_type": "markdown",
      "source": [
        "Puedes crearlo a mano o con echo\n",
        "\n",
        "\n",
        "```\n",
        "echo \"# Proyecto Demo\" > README.md\n",
        "echo print(\"hola git\") > app.py\n",
        "```\n",
        "\n"
      ],
      "metadata": {
        "id": "rIN0p9taXeEO"
      }
    },
    {
      "cell_type": "markdown",
      "source": [
        "## **Comprobamos el estado del repo**"
      ],
      "metadata": {
        "id": "c6zjme5OXl-X"
      }
    },
    {
      "cell_type": "code",
      "source": [
        "git status"
      ],
      "metadata": {
        "id": "_1IG15tdXqCV"
      },
      "execution_count": null,
      "outputs": []
    },
    {
      "cell_type": "markdown",
      "source": [
        "## **Vamos a hacer cambios en los archivos!**\n"
      ],
      "metadata": {
        "id": "Ude4l5UccdRD"
      }
    },
    {
      "cell_type": "code",
      "source": [
        "git add README.md app.py   # o git add .\n",
        "git commit -m \"feat: primer commit con README y app\"\n",
        "\n",
        "echo 'print(\"segunda línea\")' >> app.py\n",
        "git status\n",
        "git diff                  # muestra cambios no staged\n",
        "git add app.py\n",
        "git diff --staged         # muestra lo staged\n",
        "git commit -m \"feat: añadir salida extra en app.py\"\n",
        "\n",
        "git log --oneline"
      ],
      "metadata": {
        "id": "R-t5Nji9ch7k"
      },
      "execution_count": null,
      "outputs": []
    },
    {
      "cell_type": "markdown",
      "source": [
        "## **Crea un gitignore**"
      ],
      "metadata": {
        "id": "LFH5SF13dMTU"
      }
    },
    {
      "cell_type": "code",
      "source": [
        "# Contenido para archivo .gitignore\n",
        "\n",
        "# Python\n",
        "__pycache__/\n",
        "*.pyc\n",
        ".venv/\n",
        ".env\n",
        "*.log\n",
        "\n",
        "# VS Code\n",
        ".vscode/"
      ],
      "metadata": {
        "id": "_26nNNn2dQSM"
      },
      "execution_count": null,
      "outputs": []
    },
    {
      "cell_type": "code",
      "source": [
        "git add .gitignore\n",
        "git commit -m \"chore: añadir gitignore\""
      ],
      "metadata": {
        "id": "zL4lwJfwdYOn"
      },
      "execution_count": null,
      "outputs": []
    },
    {
      "cell_type": "markdown",
      "source": [
        "## **Ramas y merges**"
      ],
      "metadata": {
        "id": "oreOaSoRdbjZ"
      }
    },
    {
      "cell_type": "code",
      "source": [
        "# Crea rama de feature\n",
        "git switch -c feature/saludo\n",
        "echo 'print(\"from feature branch\")' >> app.py\n",
        "git add app.py\n",
        "git commit -m \"feat: mensaje desde rama feature\"\n",
        "\n",
        "# Vuelve a main y fusiona\n",
        "git switch main\n",
        "git merge feature/saludo   # merge fast-forward esperado hay que hacer aprobación con pull request\n",
        "git branch -d feature/saludo # -> buenas prácticas"
      ],
      "metadata": {
        "id": "ou-60MM4dekh"
      },
      "execution_count": null,
      "outputs": []
    },
    {
      "cell_type": "markdown",
      "source": [
        "Crea conflicto intencionado (para la siguiente sección):\n",
        "\n",
        "En main: cambia una misma línea de app.py y comitea.\n",
        "\n",
        "En nueva rama feature/conflicto: cambia esa misma línea de forma distinta y comitea.\n",
        "\n",
        "Intenta mezclar para provocar conflicto."
      ],
      "metadata": {
        "id": "FixI13JRlmTB"
      }
    },
    {
      "cell_type": "markdown",
      "source": [
        "## **Resolver conflictos**\n",
        "\n",
        "\n",
        "\n",
        "```\n",
        "# Abre app.py -> verás marcadores:\n",
        "# <<<<<<< HEAD\n",
        "# ... versión main ...\n",
        "# =======\n",
        "# ... versión feature ...\n",
        "# >>>>>>> feature/conflicto\n",
        "```\n",
        "\n",
        "Resolución:\n",
        "\n",
        "En VS Code, usa los botones Accept Current / Incoming / Both o edita a mano.\n",
        "\n",
        "Quita los marcadores <<<<<<< ======= >>>>>>>.\n",
        "\n",
        "Prueba el script si aplica.\n"
      ],
      "metadata": {
        "id": "r8u0K6YTloKh"
      }
    },
    {
      "cell_type": "code",
      "source": [
        "git add app.py\n",
        "git commit -m \"fix: resolver conflicto en app.py\""
      ],
      "metadata": {
        "id": "hGZ-GNlslzB7"
      },
      "execution_count": null,
      "outputs": []
    },
    {
      "cell_type": "markdown",
      "source": [
        "## **REMOTOS y Pull Request**"
      ],
      "metadata": {
        "id": "FtNuMgByl3jR"
      }
    },
    {
      "cell_type": "markdown",
      "source": [
        "1. Crea un repositorio vacío en GitHub"
      ],
      "metadata": {
        "id": "7AXPOFeyz5UL"
      }
    },
    {
      "cell_type": "code",
      "source": [
        "git remote add origin https://github.com/tu-usuario/git-demo.git\n",
        "git branch -M main\n",
        "git push -u origin main"
      ],
      "metadata": {
        "id": "pXBXCaOdz9cQ"
      },
      "execution_count": null,
      "outputs": []
    },
    {
      "cell_type": "markdown",
      "source": [
        "Flujo típico (GitHub Flow):\n",
        "\n",
        "git switch -c feature/x\n",
        "\n",
        "Commits locales → git push -u origin feature/x\n",
        "\n",
        "Abres Pull Request en GitHub → review → merge → borrar rama.\n",
        "\n",
        "Actualizar cambios de otros:\n",
        "\n",
        "\n",
        "```\n",
        "git fetch origin\n",
        "git pull --rebase origin main   # opcional: rebase para historia lineal\n",
        "```\n",
        "\n"
      ],
      "metadata": {
        "id": "jx0tVMGR0Bkh"
      }
    },
    {
      "cell_type": "markdown",
      "source": [
        "¿Qué son las pull request?\n",
        "\n",
        "Un PR es una solicitud para integrar una rama en otra (p. ej., feature/x → main) con un espacio de revisión (comentarios, checks, aprobaciones).\n",
        "\n",
        "¿Por qué se utilizan?\n",
        "Calidad (revisión), trazabilidad (discusión + commits), seguridad (políticas, tests/CI), aprendizaje en equipo.\n",
        "\n",
        "\n"
      ],
      "metadata": {
        "id": "3eFT9fME1sbu"
      }
    },
    {
      "cell_type": "markdown",
      "source": [
        "## **Clonar un repositorio**\n",
        "\n",
        "\n",
        "```\n",
        "git clone https://github.com/org/repo.git\n",
        "\n",
        "```\n",
        "\n"
      ],
      "metadata": {
        "id": "v_t9lfyR0QtR"
      }
    },
    {
      "cell_type": "markdown",
      "source": [
        "Notas:\n",
        "* fetch trae objetos sin mezclar; pull = fetch + merge/rebase.\n",
        "\n",
        "* -u guarda rama de upstream para futuros git push/git pull simples."
      ],
      "metadata": {
        "id": "0mupxSXK0aqv"
      }
    },
    {
      "cell_type": "markdown",
      "source": [
        "# **Buenas prácticas**\n",
        "* Commits pequeños, atómicos y con buen mensaje.\n",
        "\n",
        "* Nombres de ramas: feature/…, fix/…, chore/….\n",
        "\n",
        "* Conventional Commits (recomendado):\n",
        "\n",
        "  * feat: …, fix: …, docs: …, refactor: …, test: …, chore: …\n",
        "\n",
        "* Revisar PRs de compañeros; CI verde antes de merge.\n",
        "\n",
        "* Mantén .gitignore al día."
      ],
      "metadata": {
        "id": "sWB3lbo00kgO"
      }
    },
    {
      "cell_type": "markdown",
      "source": [
        "# **Cheatsheet de comandos**"
      ],
      "metadata": {
        "id": "gzCFR6wL01H1"
      }
    },
    {
      "cell_type": "markdown",
      "source": [
        "\n",
        "\n",
        "```\n",
        "# Estado y cambios\n",
        "git status\n",
        "git diff            # no staged\n",
        "git diff --staged   # staged\n",
        "git log --oneline --graph --decorate --all\n",
        "\n",
        "# Añadir/commit\n",
        "git add <ruta> | .\n",
        "git commit -m \"feat: mensaje\"\n",
        "\n",
        "# Ramas\n",
        "git branch\n",
        "git switch -c feature/x\n",
        "git switch main\n",
        "git merge feature/x\n",
        "git branch -d feature/x\n",
        "\n",
        "# Remotos\n",
        "git remote -v\n",
        "git push -u origin main\n",
        "git fetch origin\n",
        "git pull --rebase origin main\n",
        "git clone <url>\n",
        "\n",
        "\n",
        "```\n",
        "\n"
      ],
      "metadata": {
        "id": "ZO1__q7z06y2"
      }
    },
    {
      "cell_type": "markdown",
      "source": [
        "# **Ejercicios**\n",
        "\n",
        "1) **El cuaderno del laboratorio (individual)**\n",
        "\n",
        "Contexto: Arrancas un mini-proyecto desde cero.\n",
        "Objetivo: Crear un repositorio con estructura mínima profesional.\n",
        "Restricciones: Debe existir un archivo de documentación inicial y reglas para ignorar archivos generados.\n",
        "Entregables:\n",
        "\n",
        "Captura del historial con 2–3 commits con mensajes claros.\n",
        "\n",
        "Árbol de carpetas con docs/ y un archivo README.\n",
        "\n",
        "Archivo de exclusiones funcionando (demuéstralo con un archivo que no aparezca como cambio).\n",
        "\n",
        "2) **Bitácora de cambios (individual)**\n",
        "\n",
        "Contexto: El equipo quiere un historial entendible.\n",
        "Objetivo: Establecer una convención de mensajes y aplicar 3 commits pequeños y atómicos sobre un mismo archivo.\n",
        "Restricciones: Un commit por idea; nada de “mezclar cosas”.\n",
        "Entregables:\n",
        "\n",
        "Captura del historial abreviado mostrando prefijos coherentes (por ejemplo, feat:, docs:, chore:).\n",
        "\n",
        "Archivo con sección “Changelog” que enumere qué aporta cada commit.\n",
        "\n",
        "3) **Carrera de features (parejas)**\n",
        "\n",
        "Contexto: Dos personas trabajan en funcionalidades distintas.\n",
        "Objetivo: Crear dos ramas de trabajo paralelas y llevar ambas a la rama principal sin pisarse.\n",
        "Restricciones: Cada rama debe tocar archivos distintos y dejar rastro en el historial.\n",
        "Entregables:\n",
        "\n",
        "Captura del gráfico de historial donde se vean ambas ramas y su integración.\n",
        "\n",
        "Breve nota en docs/ explicando qué aporta cada rama.\n",
        "\n",
        "4) **Menú degustación… con choque (parejas)**\n",
        "\n",
        "Contexto: Dos chefs editan la misma línea de un archivo de recetas.\n",
        "Objetivo: Integrar ambas propuestas de forma coherente, dejando el archivo final sin marcadores de conflicto.\n",
        "Restricciones: La solución debe conservar lo mejor de ambas ideas (no vale borrar la de otro).\n",
        "Entregables:\n",
        "\n",
        "Archivo final con la receta combinada.\n",
        "\n",
        "Historial que muestre la integración (un commit que cierre el conflicto) y un mensaje que explique la decisión.\n",
        "\n",
        "5) **PR de cortesía (equipo)**\n",
        "\n",
        "Contexto: La empresa exige revisión por pares.\n",
        "Objetivo: Publicar una rama en remoto y abrir un Pull Request descriptivo.\n",
        "Restricciones: El PR debe incluir: contexto, qué cambia, cómo probar, y una checklist.\n",
        "Entregables:\n",
        "\n",
        "Captura del PR abierto con al menos un comentario de revisión y una respuesta.\n",
        "\n",
        "Evidencia del merge (por ejemplo, estado “Closed and merged”) y la rama de trabajo eliminada en remoto.\n",
        "\n",
        "6) **Release 1.0 (individual)**\n",
        "\n",
        "Contexto: Preparas la primera entrega a cliente.\n",
        "Objetivo: Marcar una versión estable y publicarla en remoto.\n",
        "Restricciones: La marca de versión debe quedar asociada a un commit concreto y visible en la plataforma remota.\n",
        "Entregables:\n",
        "\n",
        "Captura donde se ve la versión publicada.\n",
        "\n",
        "Archivo docs/RELEASE_NOTES.md con bullets de novedades.\n",
        "\n",
        "7) **Documentación viva (parejas)**\n",
        "\n",
        "Contexto: El repo necesita docs y ejemplos, pero no debe bloquear el desarrollo.\n",
        "Objetivo: Crear una rama dedicada a documentación, avanzarla en paralelo y luego integrarla.\n",
        "Restricciones: No tocar código de producto en esa rama; solo docs/ y ejemplos.\n",
        "Entregables:\n",
        "\n",
        "Historial mostrando la rama de docs y su integración.\n",
        "\n",
        "Carpeta docs/ con al menos dos páginas y un índice.\n",
        "\n",
        "8) **Semillas de datos (individual)**\n",
        "\n",
        "Contexto: Incorporas datos de ejemplo para pruebas.\n",
        "Objetivo: Añadir una carpeta con datos de muestra sin “ensuciar” el repo con archivos temporales.\n",
        "Restricciones: Los binarios grandes o temporales deben quedar fuera del seguimiento.\n",
        "Entregables:\n",
        "\n",
        "Carpeta sample_data/ versionada con 2–3 archivos pequeños.\n",
        "\n",
        "Demostración de que archivos voluminosos o temporales no aparecen como cambios gracias a las reglas de exclusión.\n",
        "\n",
        "9) **Trabajando con una API (parejas)**\n",
        "\n",
        "Contexto: Una persona crea el cliente de la API y otra la documentación de uso.\n",
        "Objetivo: Dos ramas coordinadas: feature/api-client y docs/api-guide, ambas integradas en principal.\n",
        "Restricciones: La guía debe referenciar el código introducido por la otra rama.\n",
        "Entregables:\n",
        "\n",
        "PR de feature/api-client con ejemplo mínimo de invocación.\n",
        "\n",
        "PR de docs/api-guide que explique cómo probarlo.\n",
        "\n",
        "Evidencia de que ambas ramas se integraron sin pisarse.\n",
        "\n",
        "10) **Hotfix exprés (equipo)**\n",
        "\n",
        "Contexto: Descubren un bug en producción; hay que arreglar sin frenar nuevas features.\n",
        "Objetivo: Crear una rama de corrección desde principal, aplicar el fix y entregarlo rápidamente.\n",
        "Restricciones: El arreglo debe ir acompañado de un test o un ejemplo reproducible.\n",
        "Entregables:\n",
        "\n",
        "Historial donde se vea la rama de corrección integrada.\n",
        "\n",
        "Archivo de prueba o ejemplo que demuestre el arreglo.\n",
        "\n",
        "11) **Catálogo de módulos (individual)**\n",
        "\n",
        "Contexto: Quieres organizar el proyecto en subcarpetas (p. ej., app/, scripts/, docs/).\n",
        "Objetivo: Reorganizar el repo manteniendo la trazabilidad de qué se movió.\n",
        "Restricciones: Los cambios deben quedar en commits separados: mover → ajustar imports → documentación.\n",
        "Entregables:\n",
        "\n",
        "Historial con los pasos diferenciados.\n",
        "\n",
        "Árbol del proyecto antes/después en el README.\n",
        "\n",
        "12)** Guardián de estilo (equipo)**\n",
        "\n",
        "Contexto: El equipo adopta una guía de estilo.\n",
        "Objetivo: Introducir una herramienta de formato/lint y aplicarla gradualmente, sin mezclar con cambios funcionales.\n",
        "Restricciones: Un commit puramente de formateo; posteriores commits funcionales en otra rama.\n",
        "Entregables:\n",
        "\n",
        "PR de “formato” que solo toque estilo.\n",
        "\n",
        "PR funcional posterior que no re-formatee archivos ya tratados.\n",
        "\n",
        "13) **OPERACIÓN RESCATE**\n",
        "\n",
        "Objetivo\n",
        "\n",
        "* Recuperar un archivo borrado que ya estaba versionado.\n",
        "\n",
        "* Recuperar un commit perdido usando git reflog.\n",
        "\n",
        "PREPARACIÓN\n",
        "```\n",
        "mkdir git-rescate && cd git-rescate\n",
        "git init\n",
        "echo \"v1\" > informe.txt\n",
        "git add .\n",
        "git commit -m \"feat: informe v1\"\n",
        "\n",
        "echo \"v2\" >> informe.txt\n",
        "git add informe.txt\n",
        "git commit -m \"feat: informe v2\"\n",
        "```\n",
        "\n",
        "Parte A: Recuperar un archivo borrado (antes de commitear el borrado)\n",
        "1. Borra un archivo \"por accidente\"\n",
        "\n",
        "```\n",
        "rm informe.txt\n",
        "git status\n",
        "```\n",
        "\n",
        "2. Recupéralo desde el último commit (HEAD)\n",
        "```\n",
        "git restore informe.txt            \n",
        "# Alternativa clásica:\n",
        "# git checkout -- informe.txt\n",
        "```\n",
        "3. Comprueba\n",
        "\n",
        "```\n",
        "ls -l\n",
        "cat informe.txt\n",
        "```\n",
        "\n",
        "Éxito si: Ahora el informe debería volver a aparecer con el contenido previo\n",
        "\n",
        "Parte B - Recuperar un commit perdido con reflog\n",
        "\n",
        "1. Crea otro cambio y commitealo\n",
        "```\n",
        "echo \"v3\" >> informe.txt\n",
        "git add informe.txt\n",
        "git commit -m \"feat: informe v3\"\n",
        "git log --oneline -n 3\n",
        "```\n",
        "\n",
        "2. Simula el desastre: vuelve atrás con un reset duro (perderás el commit del main)\n",
        "\n",
        "```\n",
        "git reset --hard HEAD~1\n",
        "git log --oneline -n 3   # ya no verás \"informe v3\"\n",
        "```\n",
        "\n",
        "3. Encuentra tu trabajo \"perdido\" con reflog\n",
        "\n",
        "```\n",
        "git reflog --date=iso | head -n 10\n",
        "# Localiza la entrada anterior al reset (ej. HEAD@{1})\n",
        "```\n",
        "\n",
        "4. Opción segura (recomendada): rescata en una rama sin tocar main:\n",
        "\n",
        "```\n",
        "git switch -c salvado HEAD@{1}  # o usa el hash exacto del commit v3\n",
        "git log --oneline -n 3          # aquí debe aparecer \"feat: informe v3\"\n",
        "\n",
        "# Integra el commit rescatado en main\n",
        "git switch main\n",
        "git merge salvado               # merge fast-forward esperado\n",
        "```\n",
        "\n",
        "5. Verifica el contenido:\n",
        "```\n",
        "cat informe.txt   # Debe incluir v1, v2 y v3\n",
        "git log --oneline -n 5\n",
        "```\n",
        "\n",
        "Éxito si: el commit con “informe v3” vuelve a la rama principal.\n",
        "\n",
        "Resumen:\n",
        "* git restore <ruta> trae un archivo a su estado de HEAD.\n",
        "\n",
        "* git reflog es la caja negra: registra movimientos de HEAD y te permite “viajar” a estados previos.\n",
        "\n",
        "* Crear una rama en el punto recuperado (git switch -c salvado <ref>) es la forma más segura de rescatar trabajo y después integrarlo con merge."
      ],
      "metadata": {
        "id": "6jcVHcKLWkdZ"
      }
    }
  ]
}